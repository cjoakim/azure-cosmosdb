{
  "metadata": {
    "saveOutput": true,
    "language_info": {
      "name": "python"
    }
  },
  "nbformat": 4,
  "nbformat_minor": 2,
  "cells": [
    {
      "cell_type": "code",
      "execution_count": 22,
      "outputs": [
        {
          "output_type": "execute_result",
          "execution_count": 25,
          "data": {
            "application/json": {
              "table": {
                "rows": [
                  {
                    "postal_cd": "28728",
                    "location": {
                      "coordinates": [
                        -82.7746,
                        35.4572
                      ],
                      "type": "Point"
                    },
                    "plant_address": "523 Darren Cliff Station",
                    "products": [
                      "Product_58",
                      "Component_59",
                      "Component_76",
                      "Component_97",
                      "Product_45",
                      "Component_83"
                    ],
                    "doctype": "plant",
                    "active_ind": "active",
                    "country_cd": "US",
                    "pk": "Enka",
                    "id": "11949",
                    "_etag": "\"69006e37-0000-0100-0000-5f884e530000\"",
                    "plant_name": "Enka",
                    "_rid": "UbUyAJNkscwQAAAAAAAAAA==",
                    "city_name": "Enka",
                    "state_abbrv": "NC",
                    "updated_at": 1602768400,
                    "plant_manager": "Megan Howard",
                    "_ts": 1602768467
                  },
                  {
                    "postal_cd": "28470",
                    "location": {
                      "coordinates": [
                        -78.400999,
                        33.956706
                      ],
                      "type": "Point"
                    },
                    "plant_address": "680 Sonya Parkway Ford",
                    "products": [
                      "Product_67",
                      "Product_12",
                      "Product_14",
                      "Component_61",
                      "Product_71"
                    ],
                    "doctype": "plant",
                    "active_ind": "closed",
                    "country_cd": "US",
                    "pk": "Shallotte",
                    "id": "11758",
                    "_etag": "\"69007037-0000-0100-0000-5f884e530000\"",
                    "plant_name": "Shallotte",
                    "_rid": "UbUyAJNkscwfAAAAAAAAAA==",
                    "city_name": "Shallotte",
                    "state_abbrv": "NC",
                    "updated_at": 1602768400,
                    "plant_manager": "Belinda Flores",
                    "_ts": 1602768467
                  },
                  {
                    "postal_cd": "27523",
                    "location": {
                      "coordinates": [
                        -78.918739,
                        35.79427
                      ],
                      "type": "Point"
                    },
                    "plant_address": "36 Megan Divide Mountain",
                    "products": [
                      "Product_54",
                      "Component_23",
                      "Product_4",
                      "Product_70",
                      "Component_93",
                      "Product_89"
                    ],
                    "doctype": "plant",
                    "active_ind": "active",
                    "country_cd": "US",
                    "pk": "Apex",
                    "id": "11160",
                    "_etag": "\"69007237-0000-0100-0000-5f884e530000\"",
                    "plant_name": "Apex",
                    "_rid": "UbUyAJNkscwFAAAAAAAAAA==",
                    "city_name": "Apex",
                    "state_abbrv": "NC",
                    "updated_at": 1602768400,
                    "plant_manager": "Joann Vega",
                    "_ts": 1602768467
                  },
                  {
                    "postal_cd": "27263",
                    "location": {
                      "coordinates": [
                        -79.953118,
                        35.906674
                      ],
                      "type": "Point"
                    },
                    "plant_address": "53 Marc Unions Village",
                    "products": [
                      "Component_5",
                      "Component_38",
                      "Component_22",
                      "Product_22",
                      "Component_98",
                      "Product_40"
                    ],
                    "doctype": "plant",
                    "active_ind": "active",
                    "country_cd": "US",
                    "pk": "High_Point",
                    "id": "11050",
                    "_etag": "\"270076e3-0000-0100-0000-5f848eb50000\"",
                    "plant_name": "High_Point",
                    "_rid": "UbUyAJNkscwbAAAAAAAAAA==",
                    "city_name": "High Point",
                    "state_abbrv": "NC",
                    "updated_at": 1602522757,
                    "plant_manager": "Marie Watkins",
                    "_ts": 1602522805
                  },
                  {
                    "postal_cd": "28083",
                    "location": {
                      "coordinates": [
                        -80.575249,
                        35.493983
                      ],
                      "type": "Point"
                    },
                    "plant_address": "131 Felicia Row Roads",
                    "products": [
                      "Product_39",
                      "Product_74",
                      "Product_23",
                      "Component_77",
                      "Product_75",
                      "Component_38"
                    ],
                    "doctype": "plant",
                    "active_ind": "active",
                    "country_cd": "US",
                    "pk": "Kannapolis",
                    "id": "11481",
                    "_etag": "\"4800754f-0000-0100-0000-5f8716c10000\"",
                    "plant_name": "Kannapolis",
                    "_rid": "UbUyAJNkscwXAAAAAAAAAA==",
                    "city_name": "Kannapolis",
                    "state_abbrv": "NC",
                    "updated_at": 1602688456,
                    "plant_manager": "Steven Berry",
                    "_ts": 1602688705
                  },
                  {
                    "postal_cd": "29014",
                    "location": {
                      "coordinates": [
                        -81.118985,
                        34.538892
                      ],
                      "type": "Point"
                    },
                    "plant_address": "357 Stevenson Park Creek",
                    "products": [
                      "Product_96",
                      "Component_84",
                      "Component_49",
                      "Component_38",
                      "Product_56"
                    ],
                    "doctype": "plant",
                    "active_ind": "active",
                    "country_cd": "US",
                    "pk": "Blackstock",
                    "id": "12035",
                    "_etag": "\"0400a69c-0000-0100-0000-5f81f5400000\"",
                    "plant_name": "Blackstock",
                    "_rid": "UbUyAJNkscwjAAAAAAAAAA==",
                    "city_name": "Blackstock",
                    "state_abbrv": "SC",
                    "updated_at": 1602352426,
                    "plant_manager": "Shawn Meza",
                    "_ts": 1602352448
                  },
                  {
                    "postal_cd": "29227",
                    "location": {
                      "coordinates": [
                        -81.0353,
                        34.0009
                      ],
                      "type": "Point"
                    },
                    "plant_address": "892 Patel Street Plain",
                    "products": [
                      "Component_31",
                      "Component_77",
                      "Component_4",
                      "Product_4",
                      "Component_88"
                    ],
                    "doctype": "plant",
                    "active_ind": "active",
                    "country_cd": "US",
                    "pk": "Columbia",
                    "id": "12160",
                    "_etag": "\"0400a79c-0000-0100-0000-5f81f5400000\"",
                    "plant_name": "Columbia",
                    "_rid": "UbUyAJNkscwkAAAAAAAAAA==",
                    "city_name": "Columbia",
                    "state_abbrv": "SC",
                    "updated_at": 1602352426,
                    "plant_manager": "Daniel Krueger",
                    "_ts": 1602352448
                  },
                  {
                    "postal_cd": "29302",
                    "location": {
                      "coordinates": [
                        -81.850483,
                        34.884741
                      ],
                      "type": "Point"
                    },
                    "plant_address": "289 Bryan Lodge Inlet",
                    "products": [
                      "Product_78",
                      "Component_27",
                      "Component_8",
                      "Component_49",
                      "Product_88"
                    ],
                    "doctype": "plant",
                    "active_ind": "active",
                    "country_cd": "US",
                    "pk": "Spartanburg",
                    "id": "12170",
                    "_etag": "\"0400a89c-0000-0100-0000-5f81f5400000\"",
                    "plant_name": "Spartanburg",
                    "_rid": "UbUyAJNkscwlAAAAAAAAAA==",
                    "city_name": "Spartanburg",
                    "state_abbrv": "SC",
                    "updated_at": 1602352426,
                    "plant_manager": "Cynthia Phillips",
                    "_ts": 1602352448
                  },
                  {
                    "postal_cd": "29410",
                    "location": {
                      "coordinates": [
                        -79.996904,
                        32.93904
                      ],
                      "type": "Point"
                    },
                    "plant_address": "4 Jason Points Throughway",
                    "products": [
                      "Component_42",
                      "Product_7",
                      "Product_79",
                      "Product_86",
                      "Product_82"
                    ],
                    "doctype": "plant",
                    "active_ind": "active",
                    "country_cd": "US",
                    "pk": "Hanahan",
                    "id": "12231",
                    "_etag": "\"0400ac9c-0000-0100-0000-5f81f5410000\"",
                    "plant_name": "Hanahan",
                    "_rid": "UbUyAJNkscwpAAAAAAAAAA==",
                    "city_name": "Hanahan",
                    "state_abbrv": "SC",
                    "updated_at": 1602352426,
                    "plant_manager": "Kimberly Turner",
                    "_ts": 1602352449
                  },
                  {
                    "postal_cd": "29843",
                    "location": {
                      "coordinates": [
                        -81.167941,
                        33.170678
                      ],
                      "type": "Point"
                    },
                    "plant_address": "894 Jeremy Fords Mount",
                    "products": [
                      "Product_28",
                      "Component_58",
                      "Component_31",
                      "Component_50",
                      "Component_56"
                    ],
                    "doctype": "plant",
                    "active_ind": "active",
                    "country_cd": "US",
                    "pk": "Olar",
                    "id": "12511",
                    "_etag": "\"0400ad9c-0000-0100-0000-5f81f5410000\"",
                    "plant_name": "Olar",
                    "_rid": "UbUyAJNkscwqAAAAAAAAAA==",
                    "city_name": "Olar",
                    "state_abbrv": "SC",
                    "updated_at": 1602352426,
                    "plant_manager": "Sydney Decker",
                    "_ts": 1602352449
                  }
                ],
                "schema": {
                  "_rid": "string",
                  "_ts": "bigint",
                  "active_ind": "string",
                  "city_name": "string",
                  "country_cd": "string",
                  "doctype": "string",
                  "id": "string",
                  "location": "StructType(StructField(coordinates,ArrayType(DoubleType,true),true), StructField(type,StringType,true))",
                  "pk": "string",
                  "plant_address": "string",
                  "plant_manager": "string",
                  "plant_name": "string",
                  "postal_cd": "string",
                  "products": "ArrayType(StringType,true)",
                  "state_abbrv": "string",
                  "updated_at": "bigint",
                  "_etag": "string"
                }
              },
              "isSummary": false,
              "language": "scala"
            }
          },
          "metadata": {}
        }
      ],
      "metadata": {
        "diagram": {
          "activateDiagramType": 1,
          "chartConfig": {
            "category": "bar",
            "keys": [
              "_rid"
            ],
            "values": [
              "_ts"
            ],
            "yLabel": "_ts",
            "xLabel": "_rid",
            "aggregation": "SUM",
            "aggByBackend": false
          },
          "aggData": "{\"_ts\":{\"UbUyAJNkscwFAAAAAAAAAA==\":1602768467,\"UbUyAJNkscwQAAAAAAAAAA==\":1602768467,\"UbUyAJNkscwXAAAAAAAAAA==\":1602688705,\"UbUyAJNkscwbAAAAAAAAAA==\":1602522805,\"UbUyAJNkscwfAAAAAAAAAA==\":1602768467,\"UbUyAJNkscwjAAAAAAAAAA==\":1602352448,\"UbUyAJNkscwkAAAAAAAAAA==\":1602352448,\"UbUyAJNkscwlAAAAAAAAAA==\":1602352448,\"UbUyAJNkscwpAAAAAAAAAA==\":1602352449,\"UbUyAJNkscwqAAAAAAAAAA==\":1602352449}}",
          "isSummary": false,
          "previewData": {
            "filter": null
          },
          "isSql": false
        }
      },
      "source": [
        "# Read from Cosmos DB analytical store into a Spark DataFrame and display 10 rows from the DataFrame\n",
        "# To select a preferred list of regions in a multi-region Cosmos DB account, add .option(\"spark.cosmos.preferredRegions\", \"<Region1>,<Region2>\")\n",
        "\n",
        "df = spark.read\\\n",
        "    .format(\"cosmos.olap\")\\\n",
        "    .option(\"spark.synapse.linkedService\", \"cosmos_dev_db\")\\\n",
        "    .option(\"spark.cosmos.container\", \"plants\")\\\n",
        "    .load()\n",
        "\n",
        "display(df.limit(10))"
      ]
    },
    {
      "cell_type": "code",
      "execution_count": 23,
      "outputs": [
        {
          "output_type": "execute_result",
          "execution_count": 26,
          "data": {
            "text/plain": "root\n |-- _rid: string (nullable = true)\n |-- _ts: long (nullable = true)\n |-- active_ind: string (nullable = true)\n |-- city_name: string (nullable = true)\n |-- country_cd: string (nullable = true)\n |-- doctype: string (nullable = true)\n |-- id: string (nullable = true)\n |-- location: struct (nullable = true)\n |    |-- coordinates: array (nullable = true)\n |    |    |-- element: double (containsNull = true)\n |    |-- type: string (nullable = true)\n |-- pk: string (nullable = true)\n |-- plant_address: string (nullable = true)\n |-- plant_manager: string (nullable = true)\n |-- plant_name: string (nullable = true)\n |-- postal_cd: string (nullable = true)\n |-- products: array (nullable = true)\n |    |-- element: string (containsNull = true)\n |-- state_abbrv: string (nullable = true)\n |-- updated_at: long (nullable = true)\n |-- _etag: string (nullable = true)"
          },
          "metadata": {}
        }
      ],
      "metadata": {},
      "source": [
        "display(df.printSchema())"
      ],
      "attachments": {}
    },
    {
      "cell_type": "code",
      "execution_count": 24,
      "outputs": [
        {
          "output_type": "execute_result",
          "execution_count": 27,
          "data": {
            "application/json": {
              "table": {
                "rows": [
                  {
                    "postal_cd": "28728",
                    "location": {
                      "coordinates": [
                        -82.7746,
                        35.4572
                      ],
                      "type": "Point"
                    },
                    "plant_address": "523 Darren Cliff Station",
                    "products": [
                      "Product_58",
                      "Component_59",
                      "Component_76",
                      "Component_97",
                      "Product_45",
                      "Component_83"
                    ],
                    "doctype": "plant",
                    "active_ind": "active",
                    "country_cd": "US",
                    "pk": "Enka",
                    "id": "11949",
                    "_etag": "\"69006e37-0000-0100-0000-5f884e530000\"",
                    "plant_name": "Enka",
                    "_rid": "UbUyAJNkscwQAAAAAAAAAA==",
                    "city_name": "Enka",
                    "state_abbrv": "NC",
                    "updated_at": 1602768400,
                    "plant_manager": "Megan Howard",
                    "_ts": 1602768467
                  },
                  {
                    "postal_cd": "28470",
                    "location": {
                      "coordinates": [
                        -78.400999,
                        33.956706
                      ],
                      "type": "Point"
                    },
                    "plant_address": "680 Sonya Parkway Ford",
                    "products": [
                      "Product_67",
                      "Product_12",
                      "Product_14",
                      "Component_61",
                      "Product_71"
                    ],
                    "doctype": "plant",
                    "active_ind": "closed",
                    "country_cd": "US",
                    "pk": "Shallotte",
                    "id": "11758",
                    "_etag": "\"69007037-0000-0100-0000-5f884e530000\"",
                    "plant_name": "Shallotte",
                    "_rid": "UbUyAJNkscwfAAAAAAAAAA==",
                    "city_name": "Shallotte",
                    "state_abbrv": "NC",
                    "updated_at": 1602768400,
                    "plant_manager": "Belinda Flores",
                    "_ts": 1602768467
                  },
                  {
                    "postal_cd": "27523",
                    "location": {
                      "coordinates": [
                        -78.918739,
                        35.79427
                      ],
                      "type": "Point"
                    },
                    "plant_address": "36 Megan Divide Mountain",
                    "products": [
                      "Product_54",
                      "Component_23",
                      "Product_4",
                      "Product_70",
                      "Component_93",
                      "Product_89"
                    ],
                    "doctype": "plant",
                    "active_ind": "active",
                    "country_cd": "US",
                    "pk": "Apex",
                    "id": "11160",
                    "_etag": "\"69007237-0000-0100-0000-5f884e530000\"",
                    "plant_name": "Apex",
                    "_rid": "UbUyAJNkscwFAAAAAAAAAA==",
                    "city_name": "Apex",
                    "state_abbrv": "NC",
                    "updated_at": 1602768400,
                    "plant_manager": "Joann Vega",
                    "_ts": 1602768467
                  },
                  {
                    "postal_cd": "29307",
                    "location": {
                      "coordinates": [
                        -81.824524,
                        34.988254
                      ],
                      "type": "Point"
                    },
                    "plant_address": "355 Clarke Circle Rest",
                    "products": [
                      "Product_88",
                      "Component_40",
                      "Product_84",
                      "Component_64",
                      "Component_98"
                    ],
                    "doctype": "plant",
                    "active_ind": "closed",
                    "country_cd": "US",
                    "pk": "Spartanburg",
                    "id": "12175",
                    "_etag": "\"68003498-0000-0100-0000-5f8846000000\"",
                    "plant_name": "Spartanburg",
                    "_rid": "UbUyAJNkscwyAAAAAAAAAA==",
                    "city_name": "Spartanburg",
                    "state_abbrv": "SC",
                    "updated_at": 1602765168,
                    "plant_manager": "James Roy",
                    "_ts": 1602766336
                  }
                ],
                "schema": {
                  "_rid": "string",
                  "_ts": "bigint",
                  "active_ind": "string",
                  "city_name": "string",
                  "country_cd": "string",
                  "doctype": "string",
                  "id": "string",
                  "location": "StructType(StructField(coordinates,ArrayType(DoubleType,true),true), StructField(type,StringType,true))",
                  "pk": "string",
                  "plant_address": "string",
                  "plant_manager": "string",
                  "plant_name": "string",
                  "postal_cd": "string",
                  "products": "ArrayType(StringType,true)",
                  "state_abbrv": "string",
                  "updated_at": "bigint",
                  "_etag": "string"
                }
              },
              "isSummary": false,
              "language": "scala"
            }
          },
          "metadata": {}
        }
      ],
      "metadata": {
        "diagram": {
          "activateDiagramType": 1,
          "chartConfig": {
            "category": "bar",
            "keys": [
              "_rid"
            ],
            "values": [
              "_ts"
            ],
            "yLabel": "_ts",
            "xLabel": "_rid",
            "aggregation": "SUM",
            "aggByBackend": false
          },
          "aggData": "{\"_ts\":{\"UbUyAJNkscwFAAAAAAAAAA==\":1602768467,\"UbUyAJNkscwQAAAAAAAAAA==\":1602768467,\"UbUyAJNkscwfAAAAAAAAAA==\":1602768467,\"UbUyAJNkscwyAAAAAAAAAA==\":1602766336}}",
          "isSummary": false,
          "previewData": {
            "filter": null
          },
          "isSql": false
        }
      },
      "source": [
        "recent_df = df.filter(\"updated_at >= 1602765168\")  # 1602688456\n",
        "display(recent_df.limit(10))"
      ],
      "attachments": {}
    }
  ]
}